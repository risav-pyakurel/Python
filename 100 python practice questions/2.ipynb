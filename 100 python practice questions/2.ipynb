{
 "cells": [
  {
   "cell_type": "code",
   "execution_count": 1,
   "id": "c86fb185",
   "metadata": {},
   "outputs": [
    {
     "name": "stdout",
     "output_type": "stream",
     "text": [
      "enter temperature in celsius: 56\n",
      "56.0 degree celsius is equal to 132.8 degrees of fahrenheit.\n"
     ]
    }
   ],
   "source": [
    "#Write a program that will convert celsius value to fahrenheit\n",
    "\n",
    "\n",
    "celsius = float(input(\"enter temperature in celsius: \"))\n",
    "\n",
    "fahrenheit = (celsius * 1.8)+32\n",
    "\n",
    "print(celsius,\"degree celsius is equal to\", fahrenheit, \"degrees of fahrenheit.\")"
   ]
  },
  {
   "cell_type": "code",
   "execution_count": null,
   "id": "14e93193",
   "metadata": {},
   "outputs": [],
   "source": []
  }
 ],
 "metadata": {
  "kernelspec": {
   "display_name": "Python 3 (ipykernel)",
   "language": "python",
   "name": "python3"
  },
  "language_info": {
   "codemirror_mode": {
    "name": "ipython",
    "version": 3
   },
   "file_extension": ".py",
   "mimetype": "text/x-python",
   "name": "python",
   "nbconvert_exporter": "python",
   "pygments_lexer": "ipython3",
   "version": "3.11.3"
  }
 },
 "nbformat": 4,
 "nbformat_minor": 5
}
