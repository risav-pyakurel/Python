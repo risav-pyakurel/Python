{
 "cells": [
  {
   "cell_type": "code",
   "execution_count": 1,
   "id": "04042208",
   "metadata": {},
   "outputs": [
    {
     "name": "stdout",
     "output_type": "stream",
     "text": [
      "enter the age 1 :34\n",
      "enter the age 2 :44\n",
      "enter the age 3: 56\n",
      "the oldest age is : 56\n"
     ]
    }
   ],
   "source": [
    "# User will input (3ages).Find the oldest one\n",
    "\n",
    "age1 = int(input(\"enter the age 1 :\"))\n",
    "age2 = int(input(\"enter the age 2 :\"))\n",
    "age3 = int(input(\"enter the age 3: \"))\n",
    "\n",
    "oldestage=  max(age1,age2,age3)\n",
    "\n",
    "print(\"the oldest age is :\", oldestage)\n"
   ]
  },
  {
   "cell_type": "markdown",
   "id": "6fae13d2",
   "metadata": {},
   "source": [
    " the max() function is used to find the highest value in the my_list list. The result is assigned to the variable max_value, which is then printed using the print() function.\n",
    "\n",
    "The max() function can also take multiple arguments and find the highest value among them"
   ]
  }
 ],
 "metadata": {
  "kernelspec": {
   "display_name": "Python 3 (ipykernel)",
   "language": "python",
   "name": "python3"
  },
  "language_info": {
   "codemirror_mode": {
    "name": "ipython",
    "version": 3
   },
   "file_extension": ".py",
   "mimetype": "text/x-python",
   "name": "python",
   "nbconvert_exporter": "python",
   "pygments_lexer": "ipython3",
   "version": "3.11.3"
  }
 },
 "nbformat": 4,
 "nbformat_minor": 5
}
