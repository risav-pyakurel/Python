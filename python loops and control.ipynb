{
 "cells": [
  {
   "cell_type": "code",
   "execution_count": 3,
   "metadata": {},
   "outputs": [
    {
     "name": "stdout",
     "output_type": "stream",
     "text": [
      "enter the number66\n",
      "66.0\n",
      "value is smaller than 100\n"
     ]
    }
   ],
   "source": [
    "#if-elsestatement\n",
    "\n",
    "\n",
    "val = input(\"enter the number\")\n",
    "value_float= float(val)\n",
    "print(value_float)\n",
    "if(value_float>100):\n",
    "    print(\"value is greater than 100\")\n",
    "else:\n",
    "    print(\"value is smaller than 100\")\n"
   ]
  },
  {
   "cell_type": "code",
   "execution_count": 5,
   "metadata": {},
   "outputs": [
    {
     "name": "stdout",
     "output_type": "stream",
     "text": [
      "enter the number67\n",
      "67.0\n",
      "value is odd\n"
     ]
    }
   ],
   "source": [
    "val = input(\"enter the number\")\n",
    "value_float= float(val)\n",
    "print(value_float)\n",
    "if(value_float%2==0):\n",
    "    print(\"value is even\")\n",
    "else:\n",
    "    print(\"value is odd\")\n"
   ]
  },
  {
   "cell_type": "code",
   "execution_count": 13,
   "metadata": {},
   "outputs": [
    {
     "name": "stdout",
     "output_type": "stream",
     "text": [
      "enter the age :66\n",
      "congrats you are yuwa neta of nepal\n"
     ]
    }
   ],
   "source": [
    "#age form\n",
    "#nested if else\n",
    "\n",
    "age =float(input(\"enter the age :\"))\n",
    "if(age<18):\n",
    "    print(\"minor age\")\n",
    "elif(age>=20 and  age <=35):\n",
    "    print(\"mid age\")\n",
    "elif(age>45 and age <50):\n",
    "    print(\"senior mid age\")\n",
    "else:\n",
    "    print(\"congrats you are yuwa neta of nepal\")\n",
    "\n"
   ]
  },
  {
   "cell_type": "code",
   "execution_count": 15,
   "metadata": {},
   "outputs": [
    {
     "name": "stdout",
     "output_type": "stream",
     "text": [
      "1\n",
      "4\n",
      "9\n",
      "16\n",
      "25\n",
      "36\n",
      "49\n"
     ]
    }
   ],
   "source": [
    "#loops statment\n",
    "\n",
    "#for loop\n",
    "\n",
    "lst= [1,2,3,4,5,6,7]\n",
    "for i in lst:\n",
    "    print(i**2)"
   ]
  },
  {
   "cell_type": "code",
   "execution_count": 18,
   "metadata": {},
   "outputs": [
    {
     "name": "stdout",
     "output_type": "stream",
     "text": [
      "28\n"
     ]
    }
   ],
   "source": [
    "# find the sum of the element in the last\n",
    "lst= [1,2,3,4,5,6,7]\n",
    "sum1=0\n",
    "for i in lst:\n",
    "    sum1= sum1+i\n",
    "print(sum1)"
   ]
  },
  {
   "cell_type": "code",
   "execution_count": 20,
   "metadata": {},
   "outputs": [
    {
     "name": "stdout",
     "output_type": "stream",
     "text": [
      "even sum is 12\n",
      "odd sum is 16\n"
     ]
    }
   ],
   "source": [
    "#find the sum of odd and even number\n",
    "\n",
    "lst= [1,2,3,4,5,6,7]\n",
    "even_sum=0\n",
    "odd_sum=0\n",
    "\n",
    "for i in lst:\n",
    "    if(i%2==0):\n",
    "        even_sum= even_sum +i\n",
    "    else:\n",
    "        odd_sum = odd_sum+i\n",
    "    \n",
    "print(\"even sum is {}\".format(even_sum))     \n",
    "print(\"odd sum is {}\".format(odd_sum))"
   ]
  },
  {
   "cell_type": "code",
   "execution_count": 24,
   "metadata": {},
   "outputs": [
    {
     "name": "stdout",
     "output_type": "stream",
     "text": [
      "30 25\n"
     ]
    }
   ],
   "source": [
    "#while condition\n",
    "\n",
    "i= 0\n",
    "even_sum=0\n",
    "odd_sum=0\n",
    "\n",
    "while(i<=10):\n",
    "    \n",
    "    if(i%2==0):\n",
    "        even_sum= even_sum +i\n",
    "    else:\n",
    "        odd_sum = odd_sum+i\n",
    "    i=i+1\n",
    "print(even_sum,odd_sum)"
   ]
  },
  {
   "cell_type": "code",
   "execution_count": 27,
   "metadata": {},
   "outputs": [
    {
     "name": "stdout",
     "output_type": "stream",
     "text": [
      "1\n",
      "2\n",
      "3\n"
     ]
    }
   ],
   "source": [
    "#break \n",
    "x=1\n",
    "while(x<7):\n",
    "   \n",
    "    if x==4:\n",
    "        break\n",
    "    print(x)\n",
    "    x=x+1\n",
    " "
   ]
  },
  {
   "cell_type": "code",
   "execution_count": 33,
   "metadata": {},
   "outputs": [
    {
     "name": "stdout",
     "output_type": "stream",
     "text": [
      "1\n",
      "2\n",
      "3\n",
      "5\n",
      "6\n",
      "7\n"
     ]
    }
   ],
   "source": [
    "#continue\n",
    "\n",
    "x=0\n",
    "while x<7:\n",
    "    x=x+1\n",
    "    if x==4:\n",
    "        continue\n",
    "    print(x)"
   ]
  },
  {
   "cell_type": "code",
   "execution_count": null,
   "metadata": {},
   "outputs": [],
   "source": []
  }
 ],
 "metadata": {
  "kernelspec": {
   "display_name": "Python 3",
   "language": "python",
   "name": "python3"
  },
  "language_info": {
   "codemirror_mode": {
    "name": "ipython",
    "version": 3
   },
   "file_extension": ".py",
   "mimetype": "text/x-python",
   "name": "python",
   "nbconvert_exporter": "python",
   "pygments_lexer": "ipython3",
   "version": "3.7.3"
  }
 },
 "nbformat": 4,
 "nbformat_minor": 2
}
